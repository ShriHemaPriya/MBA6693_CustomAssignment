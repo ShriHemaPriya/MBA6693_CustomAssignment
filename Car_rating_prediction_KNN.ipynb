{
 "cells": [
  {
   "cell_type": "code",
   "execution_count": 14,
   "metadata": {},
   "outputs": [],
   "source": [
    "import sklearn\n",
    "from sklearn.utils import shuffle\n",
    "from sklearn.neighbors import KNeighborsClassifier\n",
    "from sklearn import linear_model,preprocessing\n",
    "import pandas as pd\n",
    "import numpy as np"
   ]
  },
  {
   "cell_type": "code",
   "execution_count": 15,
   "metadata": {},
   "outputs": [],
   "source": [
    "# the class label values : unacceptable - (unacc) , acceptable - (acc), good , very good - (vgood)\n",
    "data = pd.read_csv('car.data')\n"
   ]
  },
  {
   "cell_type": "code",
   "execution_count": 16,
   "metadata": {},
   "outputs": [
    {
     "data": {
      "text/html": [
       "<div>\n",
       "<style scoped>\n",
       "    .dataframe tbody tr th:only-of-type {\n",
       "        vertical-align: middle;\n",
       "    }\n",
       "\n",
       "    .dataframe tbody tr th {\n",
       "        vertical-align: top;\n",
       "    }\n",
       "\n",
       "    .dataframe thead th {\n",
       "        text-align: right;\n",
       "    }\n",
       "</style>\n",
       "<table border=\"1\" class=\"dataframe\">\n",
       "  <thead>\n",
       "    <tr style=\"text-align: right;\">\n",
       "      <th></th>\n",
       "      <th>buying</th>\n",
       "      <th>maint</th>\n",
       "      <th>doors</th>\n",
       "      <th>persons</th>\n",
       "      <th>lug_boot</th>\n",
       "      <th>safety</th>\n",
       "      <th>class</th>\n",
       "    </tr>\n",
       "  </thead>\n",
       "  <tbody>\n",
       "    <tr>\n",
       "      <th>0</th>\n",
       "      <td>vhigh</td>\n",
       "      <td>vhigh</td>\n",
       "      <td>2</td>\n",
       "      <td>2</td>\n",
       "      <td>small</td>\n",
       "      <td>low</td>\n",
       "      <td>unacc</td>\n",
       "    </tr>\n",
       "    <tr>\n",
       "      <th>1</th>\n",
       "      <td>vhigh</td>\n",
       "      <td>vhigh</td>\n",
       "      <td>2</td>\n",
       "      <td>2</td>\n",
       "      <td>small</td>\n",
       "      <td>med</td>\n",
       "      <td>unacc</td>\n",
       "    </tr>\n",
       "    <tr>\n",
       "      <th>2</th>\n",
       "      <td>vhigh</td>\n",
       "      <td>vhigh</td>\n",
       "      <td>2</td>\n",
       "      <td>2</td>\n",
       "      <td>small</td>\n",
       "      <td>high</td>\n",
       "      <td>unacc</td>\n",
       "    </tr>\n",
       "    <tr>\n",
       "      <th>3</th>\n",
       "      <td>vhigh</td>\n",
       "      <td>vhigh</td>\n",
       "      <td>2</td>\n",
       "      <td>2</td>\n",
       "      <td>med</td>\n",
       "      <td>low</td>\n",
       "      <td>unacc</td>\n",
       "    </tr>\n",
       "    <tr>\n",
       "      <th>4</th>\n",
       "      <td>vhigh</td>\n",
       "      <td>vhigh</td>\n",
       "      <td>2</td>\n",
       "      <td>2</td>\n",
       "      <td>med</td>\n",
       "      <td>med</td>\n",
       "      <td>unacc</td>\n",
       "    </tr>\n",
       "  </tbody>\n",
       "</table>\n",
       "</div>"
      ],
      "text/plain": [
       "  buying  maint doors persons lug_boot safety  class\n",
       "0  vhigh  vhigh     2       2    small    low  unacc\n",
       "1  vhigh  vhigh     2       2    small    med  unacc\n",
       "2  vhigh  vhigh     2       2    small   high  unacc\n",
       "3  vhigh  vhigh     2       2      med    low  unacc\n",
       "4  vhigh  vhigh     2       2      med    med  unacc"
      ]
     },
     "execution_count": 16,
     "metadata": {},
     "output_type": "execute_result"
    }
   ],
   "source": [
    "# pandas read the first row as column labels, here buying, maint(maintenance), doors, persons..etc are features  \n",
    "\n",
    "data.head()\n"
   ]
  },
  {
   "cell_type": "code",
   "execution_count": null,
   "metadata": {},
   "outputs": [],
   "source": []
  },
  {
   "cell_type": "markdown",
   "metadata": {},
   "source": [
    "### Removing features with non numerical data, data preprocessing "
   ]
  },
  {
   "cell_type": "code",
   "execution_count": 9,
   "metadata": {},
   "outputs": [],
   "source": [
    "num_labels = preprocessing.LabelEncoder()"
   ]
  },
  {
   "cell_type": "code",
   "execution_count": 24,
   "metadata": {},
   "outputs": [],
   "source": [
    "# this will convert all the categorical features of the buying column into suitable numerical list values, do this for all column labels\n",
    "# (buying,maint,doors,persons,lug_boot are all features i.e X)\n",
    "# the fit_transform methods only works when the input is in list, so we need to convert the column labels into list \n",
    "\n",
    "buying = num_labels.fit_transform(list(data[\"buying\"]))\n",
    "maint = num_labels.fit_transform(list(data[\"maint\"]))\n",
    "doors = num_labels.fit_transform(list(data[\"doors\"]))\n",
    "persons = num_labels.fit_transform(list(data[\"persons\"]))\n",
    "lug_boot = num_labels.fit_transform(list(data[\"lug_boot\"]))\n",
    "safety = num_labels.fit_transform(list(data[\"safety\"]))\n",
    "# now the class variable (cls) which converts categorical values like unacceptable, acceptable, good and very good into numerical values\n",
    "# this is a numpy array cls\n",
    "cls = num_labels.fit_transform(list(data[\"class\"]))\n",
    "\n"
   ]
  },
  {
   "cell_type": "code",
   "execution_count": 25,
   "metadata": {},
   "outputs": [
    {
     "data": {
      "text/plain": [
       "(array([3, 3, 3, ..., 1, 1, 1], dtype=int64),\n",
       " array([3, 3, 3, ..., 1, 1, 1], dtype=int64))"
      ]
     },
     "execution_count": 25,
     "metadata": {},
     "output_type": "execute_result"
    }
   ],
   "source": [
    "# here the columns are converted into a list with suitable numerical values using sklearn preprocessing technique\n",
    "buying,maint"
   ]
  },
  {
   "cell_type": "code",
   "execution_count": 27,
   "metadata": {},
   "outputs": [],
   "source": [
    "# Creating X & Y list ( X is the feature and Y is the class label )\n",
    "# zippping all the features like buying,persons,lug_boot..etc\n",
    "# zip creates a tuple object with given input lists\n",
    "\n",
    "X = list(zip(buying,maint,doors,persons,lug_boot,safety))\n",
    "\n",
    "# since Y is the class label i.e cls, we will just put the converted values of cls into a list\n",
    "\n",
    "Y = list(cls)\n"
   ]
  },
  {
   "cell_type": "code",
   "execution_count": null,
   "metadata": {},
   "outputs": [],
   "source": []
  },
  {
   "cell_type": "code",
   "execution_count": 28,
   "metadata": {},
   "outputs": [],
   "source": [
    "# test size is the size of test data\n",
    "x_train,x_test,y_train,y_test = sklearn.model_selection.train_test_split(X,Y, test_size = 0.1)"
   ]
  },
  {
   "cell_type": "code",
   "execution_count": 30,
   "metadata": {},
   "outputs": [],
   "source": [
    "# x_train,y_test"
   ]
  },
  {
   "cell_type": "code",
   "execution_count": 57,
   "metadata": {},
   "outputs": [],
   "source": [
    "# Creating the KNN classifier, which takes in amount of neighbours/How many neighbours we want as a parameter \n",
    "# n_neighbors is the number of nearest neighbors, we can adjust this to get better results \n",
    "\n",
    "clf = KNeighborsClassifier(n_neighbors=9)"
   ]
  },
  {
   "cell_type": "code",
   "execution_count": 58,
   "metadata": {},
   "outputs": [
    {
     "data": {
      "text/plain": [
       "KNeighborsClassifier(algorithm='auto', leaf_size=30, metric='minkowski',\n",
       "           metric_params=None, n_jobs=1, n_neighbors=9, p=2,\n",
       "           weights='uniform')"
      ]
     },
     "execution_count": 58,
     "metadata": {},
     "output_type": "execute_result"
    }
   ],
   "source": [
    "clf.fit(x_train,y_train)"
   ]
  },
  {
   "cell_type": "code",
   "execution_count": 59,
   "metadata": {},
   "outputs": [],
   "source": [
    "# getting the accuracy values \n",
    "\n",
    "acc = clf.score(x_test,y_test)"
   ]
  },
  {
   "cell_type": "code",
   "execution_count": 60,
   "metadata": {},
   "outputs": [
    {
     "data": {
      "text/plain": [
       "0.930635838150289"
      ]
     },
     "execution_count": 60,
     "metadata": {},
     "output_type": "execute_result"
    }
   ],
   "source": [
    "acc"
   ]
  },
  {
   "cell_type": "markdown",
   "metadata": {},
   "source": [
    "### Observations !!!"
   ]
  },
  {
   "cell_type": "markdown",
   "metadata": {},
   "source": [
    "\n",
    "### with n_neighbors = 3 we got accuracy of 0.83456\n",
    "### with n_neighbors = 5 we got accuracy of 0.87861\n",
    "### with n_neighbors = 7 we got accuracy of 0.92485\n",
    "\n",
    "### with n_neighbors = 9 we got the higest accuracy value of 0.930635 "
   ]
  },
  {
   "cell_type": "code",
   "execution_count": null,
   "metadata": {},
   "outputs": [],
   "source": []
  },
  {
   "cell_type": "markdown",
   "metadata": {},
   "source": [
    "### Actual class results vs the predicted results"
   ]
  },
  {
   "cell_type": "code",
   "execution_count": 62,
   "metadata": {},
   "outputs": [],
   "source": [
    "# looping through the test data and observing the real values and the predicted ones "
   ]
  },
  {
   "cell_type": "code",
   "execution_count": 63,
   "metadata": {},
   "outputs": [],
   "source": [
    "predicted = clf.predict(x_test)"
   ]
  },
  {
   "cell_type": "code",
   "execution_count": 88,
   "metadata": {},
   "outputs": [],
   "source": [
    "# This is done in order to labels the converted numerical feature values into suitable names for better interpretation \n",
    "ratings = [\"unacceptable\",\"acceptable\",\"good\",\"very good\"]"
   ]
  },
  {
   "cell_type": "markdown",
   "metadata": {},
   "source": [
    "### Comparing the predicted ratings vs the actual ratings"
   ]
  },
  {
   "cell_type": "code",
   "execution_count": 89,
   "metadata": {},
   "outputs": [
    {
     "name": "stdout",
     "output_type": "stream",
     "text": [
      "The predicted rating: unacceptable, actual rating: unacceptable, Data : (3, 2, 0, 2, 0, 0)\n",
      "The predicted rating: unacceptable, actual rating: unacceptable, Data : (2, 1, 1, 2, 2, 2)\n",
      "The predicted rating: good, actual rating: good, Data : (1, 0, 1, 0, 1, 0)\n",
      "The predicted rating: unacceptable, actual rating: unacceptable, Data : (0, 1, 1, 2, 1, 0)\n",
      "The predicted rating: very good, actual rating: very good, Data : (1, 2, 3, 1, 1, 0)\n",
      "The predicted rating: good, actual rating: good, Data : (1, 1, 2, 0, 2, 2)\n",
      "The predicted rating: unacceptable, actual rating: unacceptable, Data : (2, 2, 0, 2, 1, 0)\n",
      "The predicted rating: good, actual rating: good, Data : (1, 2, 2, 0, 2, 0)\n",
      "The predicted rating: unacceptable, actual rating: unacceptable, Data : (3, 1, 2, 1, 2, 0)\n",
      "The predicted rating: unacceptable, actual rating: unacceptable, Data : (0, 2, 2, 1, 1, 0)\n",
      "The predicted rating: unacceptable, actual rating: unacceptable, Data : (0, 1, 1, 1, 1, 0)\n",
      "The predicted rating: good, actual rating: good, Data : (2, 3, 3, 1, 0, 1)\n",
      "The predicted rating: unacceptable, actual rating: unacceptable, Data : (3, 1, 3, 2, 1, 2)\n",
      "The predicted rating: very good, actual rating: very good, Data : (2, 2, 2, 2, 0, 0)\n",
      "The predicted rating: unacceptable, actual rating: unacceptable, Data : (3, 1, 0, 1, 1, 0)\n",
      "The predicted rating: unacceptable, actual rating: unacceptable, Data : (2, 3, 3, 1, 0, 0)\n",
      "The predicted rating: unacceptable, actual rating: unacceptable, Data : (0, 0, 1, 2, 0, 0)\n",
      "The predicted rating: good, actual rating: good, Data : (3, 3, 3, 2, 1, 1)\n",
      "The predicted rating: good, actual rating: good, Data : (0, 1, 0, 1, 1, 2)\n",
      "The predicted rating: good, actual rating: good, Data : (1, 3, 1, 1, 0, 1)\n",
      "The predicted rating: good, actual rating: good, Data : (2, 2, 2, 0, 2, 2)\n",
      "The predicted rating: good, actual rating: good, Data : (1, 0, 0, 1, 0, 1)\n",
      "The predicted rating: unacceptable, actual rating: unacceptable, Data : (1, 3, 3, 2, 2, 0)\n",
      "The predicted rating: good, actual rating: good, Data : (3, 3, 1, 0, 2, 0)\n",
      "The predicted rating: good, actual rating: good, Data : (3, 2, 0, 0, 0, 0)\n",
      "The predicted rating: good, actual rating: good, Data : (2, 0, 0, 1, 1, 1)\n",
      "The predicted rating: good, actual rating: good, Data : (0, 0, 0, 1, 1, 2)\n",
      "The predicted rating: good, actual rating: good, Data : (2, 2, 0, 0, 0, 1)\n",
      "The predicted rating: good, actual rating: good, Data : (1, 2, 1, 0, 1, 0)\n",
      "The predicted rating: acceptable, actual rating: acceptable, Data : (1, 2, 2, 2, 0, 2)\n",
      "The predicted rating: good, actual rating: good, Data : (0, 2, 1, 1, 1, 1)\n",
      "The predicted rating: unacceptable, actual rating: unacceptable, Data : (2, 2, 1, 1, 1, 2)\n",
      "The predicted rating: good, actual rating: good, Data : (0, 1, 1, 2, 0, 1)\n",
      "The predicted rating: unacceptable, actual rating: unacceptable, Data : (1, 0, 2, 2, 2, 0)\n",
      "The predicted rating: good, actual rating: unacceptable, Data : (2, 0, 3, 1, 2, 0)\n",
      "The predicted rating: good, actual rating: good, Data : (3, 3, 3, 0, 1, 2)\n",
      "The predicted rating: good, actual rating: good, Data : (3, 3, 1, 2, 0, 0)\n",
      "The predicted rating: good, actual rating: good, Data : (0, 0, 0, 2, 2, 0)\n",
      "The predicted rating: good, actual rating: good, Data : (3, 3, 0, 2, 2, 2)\n",
      "The predicted rating: unacceptable, actual rating: unacceptable, Data : (0, 1, 1, 2, 2, 0)\n",
      "The predicted rating: good, actual rating: good, Data : (0, 0, 0, 0, 0, 0)\n",
      "The predicted rating: good, actual rating: unacceptable, Data : (2, 0, 0, 1, 0, 0)\n",
      "The predicted rating: unacceptable, actual rating: unacceptable, Data : (1, 0, 1, 1, 1, 2)\n",
      "The predicted rating: good, actual rating: good, Data : (1, 0, 1, 0, 1, 2)\n",
      "The predicted rating: good, actual rating: good, Data : (1, 0, 3, 0, 0, 2)\n",
      "The predicted rating: good, actual rating: good, Data : (1, 1, 0, 2, 2, 1)\n",
      "The predicted rating: good, actual rating: good, Data : (0, 1, 3, 1, 1, 1)\n",
      "The predicted rating: unacceptable, actual rating: unacceptable, Data : (1, 3, 3, 2, 1, 2)\n",
      "The predicted rating: good, actual rating: good, Data : (3, 2, 0, 1, 0, 1)\n",
      "The predicted rating: good, actual rating: good, Data : (1, 3, 3, 0, 0, 2)\n",
      "The predicted rating: good, actual rating: good, Data : (1, 0, 2, 0, 2, 1)\n",
      "The predicted rating: unacceptable, actual rating: acceptable, Data : (2, 1, 2, 2, 0, 2)\n",
      "The predicted rating: good, actual rating: good, Data : (3, 3, 3, 0, 2, 1)\n",
      "The predicted rating: unacceptable, actual rating: unacceptable, Data : (0, 1, 0, 1, 0, 2)\n",
      "The predicted rating: good, actual rating: good, Data : (1, 0, 0, 0, 2, 2)\n",
      "The predicted rating: good, actual rating: good, Data : (2, 0, 3, 0, 2, 2)\n",
      "The predicted rating: unacceptable, actual rating: unacceptable, Data : (0, 1, 3, 1, 1, 2)\n",
      "The predicted rating: unacceptable, actual rating: unacceptable, Data : (1, 3, 1, 2, 2, 0)\n",
      "The predicted rating: unacceptable, actual rating: unacceptable, Data : (1, 0, 1, 1, 0, 2)\n",
      "The predicted rating: good, actual rating: good, Data : (0, 3, 1, 2, 0, 0)\n",
      "The predicted rating: good, actual rating: good, Data : (0, 1, 2, 0, 0, 2)\n",
      "The predicted rating: good, actual rating: unacceptable, Data : (0, 2, 3, 1, 1, 2)\n",
      "The predicted rating: good, actual rating: good, Data : (1, 1, 1, 0, 0, 1)\n",
      "The predicted rating: good, actual rating: good, Data : (1, 2, 2, 0, 1, 0)\n",
      "The predicted rating: good, actual rating: good, Data : (0, 1, 1, 1, 2, 2)\n",
      "The predicted rating: good, actual rating: unacceptable, Data : (1, 0, 3, 1, 2, 0)\n",
      "The predicted rating: unacceptable, actual rating: unacceptable, Data : (3, 1, 2, 2, 0, 0)\n",
      "The predicted rating: good, actual rating: good, Data : (3, 1, 3, 0, 0, 2)\n",
      "The predicted rating: good, actual rating: good, Data : (0, 3, 0, 1, 2, 1)\n",
      "The predicted rating: good, actual rating: good, Data : (0, 0, 2, 1, 2, 1)\n",
      "The predicted rating: good, actual rating: good, Data : (2, 1, 1, 0, 0, 0)\n",
      "The predicted rating: good, actual rating: good, Data : (0, 1, 0, 2, 2, 0)\n",
      "The predicted rating: good, actual rating: good, Data : (2, 3, 2, 0, 1, 1)\n",
      "The predicted rating: good, actual rating: good, Data : (0, 3, 1, 0, 0, 0)\n",
      "The predicted rating: unacceptable, actual rating: unacceptable, Data : (0, 2, 2, 2, 0, 0)\n",
      "The predicted rating: good, actual rating: good, Data : (0, 0, 0, 1, 2, 2)\n",
      "The predicted rating: good, actual rating: good, Data : (1, 2, 2, 0, 0, 2)\n",
      "The predicted rating: good, actual rating: good, Data : (1, 3, 1, 2, 0, 1)\n",
      "The predicted rating: unacceptable, actual rating: unacceptable, Data : (0, 1, 0, 1, 1, 0)\n",
      "The predicted rating: good, actual rating: good, Data : (3, 1, 0, 0, 0, 0)\n",
      "The predicted rating: good, actual rating: good, Data : (3, 0, 0, 0, 1, 0)\n",
      "The predicted rating: good, actual rating: good, Data : (2, 0, 0, 2, 1, 1)\n",
      "The predicted rating: good, actual rating: good, Data : (3, 2, 1, 1, 0, 1)\n",
      "The predicted rating: good, actual rating: good, Data : (2, 3, 1, 0, 0, 2)\n",
      "The predicted rating: unacceptable, actual rating: unacceptable, Data : (0, 0, 2, 2, 0, 0)\n",
      "The predicted rating: good, actual rating: good, Data : (3, 2, 0, 2, 2, 1)\n",
      "The predicted rating: unacceptable, actual rating: acceptable, Data : (2, 1, 3, 2, 0, 2)\n",
      "The predicted rating: unacceptable, actual rating: unacceptable, Data : (2, 3, 3, 2, 0, 2)\n",
      "The predicted rating: good, actual rating: good, Data : (2, 3, 2, 1, 1, 1)\n",
      "The predicted rating: unacceptable, actual rating: unacceptable, Data : (0, 2, 2, 2, 2, 0)\n",
      "The predicted rating: good, actual rating: good, Data : (1, 2, 0, 2, 2, 2)\n",
      "The predicted rating: unacceptable, actual rating: unacceptable, Data : (2, 2, 0, 1, 1, 2)\n",
      "The predicted rating: good, actual rating: good, Data : (3, 3, 1, 0, 0, 2)\n",
      "The predicted rating: good, actual rating: good, Data : (3, 0, 3, 0, 1, 2)\n",
      "The predicted rating: good, actual rating: good, Data : (1, 2, 0, 0, 0, 1)\n",
      "The predicted rating: good, actual rating: good, Data : (2, 1, 1, 0, 1, 2)\n",
      "The predicted rating: good, actual rating: good, Data : (1, 0, 3, 0, 1, 2)\n",
      "The predicted rating: good, actual rating: good, Data : (0, 0, 2, 0, 2, 1)\n",
      "The predicted rating: good, actual rating: good, Data : (3, 1, 0, 0, 0, 2)\n",
      "The predicted rating: good, actual rating: good, Data : (3, 2, 1, 2, 2, 2)\n",
      "The predicted rating: good, actual rating: good, Data : (0, 3, 2, 1, 1, 0)\n",
      "The predicted rating: unacceptable, actual rating: unacceptable, Data : (2, 0, 2, 1, 2, 0)\n",
      "The predicted rating: good, actual rating: good, Data : (3, 3, 2, 1, 0, 0)\n",
      "The predicted rating: good, actual rating: good, Data : (0, 1, 1, 0, 1, 2)\n",
      "The predicted rating: good, actual rating: good, Data : (0, 0, 3, 1, 1, 1)\n",
      "The predicted rating: unacceptable, actual rating: good, Data : (3, 2, 0, 2, 2, 0)\n",
      "The predicted rating: good, actual rating: good, Data : (3, 2, 2, 1, 1, 1)\n",
      "The predicted rating: good, actual rating: good, Data : (3, 3, 0, 2, 0, 1)\n",
      "The predicted rating: good, actual rating: good, Data : (2, 3, 2, 2, 2, 2)\n",
      "The predicted rating: good, actual rating: good, Data : (0, 1, 1, 1, 2, 1)\n",
      "The predicted rating: good, actual rating: good, Data : (1, 3, 0, 0, 0, 0)\n",
      "The predicted rating: good, actual rating: good, Data : (3, 1, 2, 2, 2, 1)\n",
      "The predicted rating: good, actual rating: good, Data : (3, 2, 1, 1, 2, 2)\n",
      "The predicted rating: unacceptable, actual rating: unacceptable, Data : (1, 0, 2, 2, 0, 2)\n",
      "The predicted rating: good, actual rating: good, Data : (0, 0, 1, 2, 1, 1)\n",
      "The predicted rating: good, actual rating: good, Data : (3, 3, 3, 0, 1, 1)\n",
      "The predicted rating: unacceptable, actual rating: unacceptable, Data : (0, 2, 0, 1, 0, 0)\n",
      "The predicted rating: unacceptable, actual rating: unacceptable, Data : (2, 3, 0, 1, 0, 0)\n",
      "The predicted rating: good, actual rating: good, Data : (2, 3, 2, 1, 2, 2)\n",
      "The predicted rating: good, actual rating: good, Data : (2, 1, 2, 1, 2, 1)\n",
      "The predicted rating: good, actual rating: unacceptable, Data : (3, 1, 3, 2, 0, 0)\n",
      "The predicted rating: good, actual rating: good, Data : (0, 3, 1, 0, 2, 1)\n",
      "The predicted rating: good, actual rating: good, Data : (3, 1, 3, 1, 2, 2)\n",
      "The predicted rating: good, actual rating: good, Data : (1, 2, 3, 0, 2, 2)\n",
      "The predicted rating: good, actual rating: good, Data : (3, 0, 0, 2, 2, 0)\n",
      "The predicted rating: good, actual rating: good, Data : (3, 1, 0, 2, 1, 2)\n",
      "The predicted rating: good, actual rating: good, Data : (3, 3, 0, 0, 0, 2)\n",
      "The predicted rating: good, actual rating: good, Data : (0, 3, 1, 1, 2, 2)\n",
      "The predicted rating: good, actual rating: good, Data : (2, 3, 1, 0, 2, 2)\n",
      "The predicted rating: good, actual rating: good, Data : (3, 0, 3, 0, 2, 2)\n",
      "The predicted rating: good, actual rating: good, Data : (2, 2, 3, 2, 0, 1)\n",
      "The predicted rating: unacceptable, actual rating: unacceptable, Data : (2, 3, 3, 2, 1, 0)\n",
      "The predicted rating: unacceptable, actual rating: good, Data : (2, 3, 3, 2, 0, 1)\n",
      "The predicted rating: good, actual rating: good, Data : (0, 2, 2, 1, 1, 1)\n",
      "The predicted rating: good, actual rating: good, Data : (0, 3, 0, 2, 1, 1)\n",
      "The predicted rating: good, actual rating: good, Data : (2, 1, 3, 2, 2, 1)\n",
      "The predicted rating: good, actual rating: good, Data : (2, 0, 2, 2, 2, 1)\n",
      "The predicted rating: good, actual rating: good, Data : (3, 3, 0, 0, 0, 1)\n",
      "The predicted rating: good, actual rating: good, Data : (1, 0, 2, 0, 1, 1)\n",
      "The predicted rating: unacceptable, actual rating: unacceptable, Data : (1, 1, 0, 1, 2, 2)\n",
      "The predicted rating: unacceptable, actual rating: unacceptable, Data : (3, 2, 3, 1, 1, 0)\n",
      "The predicted rating: acceptable, actual rating: acceptable, Data : (1, 1, 2, 2, 1, 2)\n",
      "The predicted rating: acceptable, actual rating: acceptable, Data : (1, 1, 0, 2, 0, 2)\n",
      "The predicted rating: unacceptable, actual rating: unacceptable, Data : (2, 3, 2, 2, 1, 0)\n",
      "The predicted rating: good, actual rating: good, Data : (0, 1, 0, 1, 0, 1)\n",
      "The predicted rating: good, actual rating: good, Data : (3, 2, 0, 0, 2, 1)\n",
      "The predicted rating: good, actual rating: good, Data : (1, 1, 1, 0, 2, 1)\n",
      "The predicted rating: good, actual rating: good, Data : (3, 2, 2, 0, 1, 2)\n",
      "The predicted rating: good, actual rating: good, Data : (2, 3, 2, 0, 0, 2)\n",
      "The predicted rating: good, actual rating: good, Data : (2, 2, 2, 0, 1, 1)\n",
      "The predicted rating: good, actual rating: unacceptable, Data : (1, 3, 0, 1, 0, 0)\n",
      "The predicted rating: good, actual rating: good, Data : (1, 0, 2, 1, 2, 1)\n",
      "The predicted rating: unacceptable, actual rating: unacceptable, Data : (2, 0, 1, 2, 0, 0)\n",
      "The predicted rating: good, actual rating: good, Data : (3, 1, 0, 2, 2, 0)\n",
      "The predicted rating: good, actual rating: good, Data : (0, 2, 1, 2, 0, 1)\n",
      "The predicted rating: very good, actual rating: very good, Data : (2, 1, 2, 1, 1, 0)\n",
      "The predicted rating: good, actual rating: good, Data : (3, 0, 3, 0, 0, 0)\n",
      "The predicted rating: good, actual rating: good, Data : (0, 2, 1, 0, 2, 0)\n",
      "The predicted rating: good, actual rating: good, Data : (0, 0, 0, 0, 2, 1)\n",
      "The predicted rating: unacceptable, actual rating: unacceptable, Data : (0, 1, 3, 1, 0, 0)\n",
      "The predicted rating: good, actual rating: good, Data : (1, 0, 0, 2, 0, 1)\n",
      "The predicted rating: good, actual rating: good, Data : (2, 3, 2, 0, 1, 2)\n",
      "The predicted rating: good, actual rating: good, Data : (3, 0, 3, 1, 0, 1)\n",
      "The predicted rating: good, actual rating: unacceptable, Data : (0, 0, 1, 1, 0, 2)\n",
      "The predicted rating: good, actual rating: good, Data : (0, 0, 3, 2, 2, 1)\n",
      "The predicted rating: good, actual rating: good, Data : (1, 3, 1, 0, 0, 0)\n",
      "The predicted rating: good, actual rating: good, Data : (2, 1, 0, 0, 2, 0)\n",
      "The predicted rating: good, actual rating: good, Data : (2, 1, 2, 2, 0, 1)\n",
      "The predicted rating: good, actual rating: good, Data : (3, 0, 1, 0, 1, 0)\n",
      "The predicted rating: good, actual rating: good, Data : (3, 3, 2, 2, 0, 1)\n",
      "The predicted rating: unacceptable, actual rating: acceptable, Data : (2, 1, 3, 1, 1, 2)\n",
      "The predicted rating: good, actual rating: good, Data : (3, 3, 0, 1, 1, 0)\n",
      "The predicted rating: good, actual rating: good, Data : (2, 2, 2, 1, 0, 1)\n"
     ]
    }
   ],
   "source": [
    "for i in range(len(predicted)):\n",
    "    print(f'The predicted rating: {ratings[predicted[i]]}, actual rating: {ratings[y_test[i]]}, Data : {x_test[i]}')\n",
    "    # here Actual Ratings [0,1,2,3] --> 0 = unacc , 1 = acc, 2 = good, 3 = very Good"
   ]
  },
  {
   "cell_type": "code",
   "execution_count": null,
   "metadata": {},
   "outputs": [],
   "source": []
  },
  {
   "cell_type": "code",
   "execution_count": null,
   "metadata": {},
   "outputs": [],
   "source": []
  }
 ],
 "metadata": {
  "kernelspec": {
   "display_name": "Python 3",
   "language": "python",
   "name": "python3"
  },
  "language_info": {
   "codemirror_mode": {
    "name": "ipython",
    "version": 3
   },
   "file_extension": ".py",
   "mimetype": "text/x-python",
   "name": "python",
   "nbconvert_exporter": "python",
   "pygments_lexer": "ipython3",
   "version": "3.6.5"
  }
 },
 "nbformat": 4,
 "nbformat_minor": 2
}
